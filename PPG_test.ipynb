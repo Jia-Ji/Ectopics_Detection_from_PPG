{
 "cells": [
  {
   "cell_type": "code",
   "execution_count": 1,
   "metadata": {},
   "outputs": [
    {
     "name": "stdout",
     "output_type": "stream",
     "text": [
      "dict_keys(['__header__', '__version__', '__globals__', 'S', 'None', 'fs', 'labels', 'spikes_all', '__function_workspace__'])\n"
     ]
    }
   ],
   "source": [
    "import scipy.io\n",
    "import numpy as np\n",
    "\n",
    "# Load .mat file\n",
    "file_path = \"./PPG_data/Compiled/PPGECG_all.mat\"\n",
    "mat_data = scipy.io.loadmat(file_path)\n",
    "\n",
    "# Check keys in the .mat file\n",
    "print(mat_data.keys())\n"
   ]
  },
  {
   "cell_type": "code",
   "execution_count": 2,
   "metadata": {},
   "outputs": [],
   "source": [
    "PPG_ECG = mat_data['S']\n",
    "labels = mat_data['labels']\n",
    "PPG = PPG_ECG[:, :, 0]\n",
    "ECG = PPG_ECG[:, :, 1]\n",
    "PPG = np.transpose(PPG)\n",
    "ECG = np.transpose(ECG)"
   ]
  },
  {
   "cell_type": "code",
   "execution_count": 3,
   "metadata": {},
   "outputs": [],
   "source": [
    "rr = mat_data['spikes_all']\n",
    "rr = rr[0].tolist()  # list of array with shape (1,8)"
   ]
  },
  {
   "cell_type": "code",
   "execution_count": 4,
   "metadata": {},
   "outputs": [],
   "source": [
    "def calculate_sdsd(rr_intervals):\n",
    "    \"\"\"Calculate SDSD from RR intervals.\"\"\"\n",
    "    rr_diff = np.diff(rr_intervals)  # Compute successive differences\n",
    "    sdsd = np.std(rr_diff, ddof=1)  # Standard deviation (unbiased)\n",
    "    return sdsd"
   ]
  },
  {
   "cell_type": "code",
   "execution_count": 13,
   "metadata": {},
   "outputs": [],
   "source": [
    "sdsd_all = [] \n",
    "for i in rr:\n",
    "    sdsd = calculate_sdsd(i)\n",
    "    sdsd_all.append(sdsd.item())\n",
    "\n",
    "ECG_labels = ['ectopics' if i>100 else 'norm' for i in sdsd_all]\n",
    "ECG_labels = np.array(ECG_labels)"
   ]
  },
  {
   "cell_type": "code",
   "execution_count": 16,
   "metadata": {},
   "outputs": [
    {
     "name": "stdout",
     "output_type": "stream",
     "text": [
      "27245\n",
      "27245\n",
      "(27245,)\n",
      "<class 'numpy.str_'>\n"
     ]
    }
   ],
   "source": [
    "print(len(sdsd_all))\n",
    "print(len(ECG_labels))\n",
    "print(ECG_labels.shape)\n",
    "print(type(ECG_labels[0]))"
   ]
  },
  {
   "cell_type": "code",
   "execution_count": 8,
   "metadata": {},
   "outputs": [],
   "source": [
    "from sklearn.model_selection import train_test_split"
   ]
  },
  {
   "cell_type": "markdown",
   "metadata": {},
   "source": []
  },
  {
   "cell_type": "code",
   "execution_count": 17,
   "metadata": {},
   "outputs": [],
   "source": [
    "x_train, x_rest, y_train, y_rest = train_test_split(PPG, ECG_labels, test_size=0.4, random_state=16, shuffle=True)"
   ]
  },
  {
   "cell_type": "code",
   "execution_count": 18,
   "metadata": {},
   "outputs": [],
   "source": [
    "x_val, x_test, y_val, y_test = train_test_split(x_rest, y_rest, test_size=0.5, random_state=16, shuffle=True)"
   ]
  },
  {
   "cell_type": "code",
   "execution_count": 21,
   "metadata": {},
   "outputs": [
    {
     "name": "stdout",
     "output_type": "stream",
     "text": [
      "(16347, 1920)\n",
      "(16347,)\n",
      "(5449, 1920)\n",
      "(5449,)\n",
      "(5449, 1920)\n",
      "(5449,)\n"
     ]
    }
   ],
   "source": [
    "print(x_train.shape)\n",
    "print(y_train.shape)\n",
    "print(x_val.shape)\n",
    "print(y_val.shape)\n",
    "print(x_test.shape)\n",
    "print(y_test.shape)"
   ]
  },
  {
   "cell_type": "code",
   "execution_count": 25,
   "metadata": {},
   "outputs": [
    {
     "name": "stdout",
     "output_type": "stream",
     "text": [
      "16347\n"
     ]
    }
   ],
   "source": [
    "print(len(x_train))"
   ]
  },
  {
   "cell_type": "code",
   "execution_count": 23,
   "metadata": {},
   "outputs": [],
   "source": [
    "with open('./PPG_data/splitted_data/x_train.npy', 'wb') as f:\n",
    "    np.save(f, x_train)\n",
    "with open('./PPG_data/splitted_data/y_train.npy', 'wb') as f:\n",
    "    np.save(f, y_train)\n",
    "with open('./PPG_data/splitted_data/x_val.npy', 'wb') as f:\n",
    "    np.save(f, x_val)\n",
    "with open('./PPG_data/splitted_data/y_val.npy', 'wb') as f:\n",
    "    np.save(f, y_val)\n",
    "with open('./PPG_data/splitted_data/x_test.npy', 'wb') as f:\n",
    "    np.save(f, x_test)\n",
    "with open('./PPG_data/splitted_data/y_test.npy', 'wb') as f:\n",
    "    np.save(f, y_test)"
   ]
  }
 ],
 "metadata": {
  "kernelspec": {
   "display_name": "PPG",
   "language": "python",
   "name": "python3"
  },
  "language_info": {
   "codemirror_mode": {
    "name": "ipython",
    "version": 3
   },
   "file_extension": ".py",
   "mimetype": "text/x-python",
   "name": "python",
   "nbconvert_exporter": "python",
   "pygments_lexer": "ipython3",
   "version": "3.10.12"
  }
 },
 "nbformat": 4,
 "nbformat_minor": 2
}
