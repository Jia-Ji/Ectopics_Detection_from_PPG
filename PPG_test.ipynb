{
 "cells": [
  {
   "cell_type": "code",
   "execution_count": 1,
   "metadata": {},
   "outputs": [
    {
     "name": "stdout",
     "output_type": "stream",
     "text": [
      "dict_keys(['__header__', '__version__', '__globals__', 'S', 'None', 'fs', 'labels', 'spikes_all', '__function_workspace__'])\n"
     ]
    }
   ],
   "source": [
    "import scipy.io\n",
    "import numpy as np\n",
    "\n",
    "# Load .mat file\n",
    "file_path = \"./PPG_data/Compiled/PPGECG_all.mat\"\n",
    "mat_data = scipy.io.loadmat(file_path)\n",
    "\n",
    "# Check keys in the .mat file\n",
    "print(mat_data.keys())\n"
   ]
  },
  {
   "cell_type": "code",
   "execution_count": 2,
   "metadata": {},
   "outputs": [],
   "source": [
    "import pandas as pd\n",
    "\n",
    "file_path = \"./PPG_data/Compiled/PPGECG_all_table.csv\"\n",
    "df = pd.read_csv(file_path)\n",
    "df['index'] = df.index"
   ]
  },
  {
   "cell_type": "code",
   "execution_count": 3,
   "metadata": {},
   "outputs": [
    {
     "name": "stdout",
     "output_type": "stream",
     "text": [
      "Index(['ID0', 'ID', 'Filename', 'rrmed', 'hrmed', 'sdsd', 'madsd', 'TimeStart',\n",
      "       'ECGcat', 'index'],\n",
      "      dtype='object')\n",
      "     ID0       ID   Filename        rrmed      hrmed       sdsd      madsd  \\\n",
      "0  ID_03  ID_03_1  Sig_001_1  1025.000000  58.536585  14.047703  10.416667   \n",
      "1  ID_03  ID_03_2  Sig_001_2   991.666667  60.504202  10.346989   6.250000   \n",
      "2  ID_03  ID_03_3  Sig_001_3   983.333333  61.016949   6.273105   4.166667   \n",
      "3  ID_03  ID_03_4  Sig_001_4  1000.000000  60.000000   6.804138   6.250000   \n",
      "4  ID_03  ID_03_5  Sig_001_5  1012.500000  59.259259   4.370037   2.083333   \n",
      "\n",
      "  TimeStart ECGcat  index  \n",
      "0  00:00:08   NORM      0  \n",
      "1  00:00:16   NORM      1  \n",
      "2  00:00:24   NORM      2  \n",
      "3  00:00:32   NORM      3  \n",
      "4  00:00:40   NORM      4  \n"
     ]
    }
   ],
   "source": [
    "print(df.columns)\n",
    "print(df.head())"
   ]
  },
  {
   "cell_type": "code",
   "execution_count": 24,
   "metadata": {},
   "outputs": [
    {
     "name": "stdout",
     "output_type": "stream",
     "text": [
      "<class 'numpy.ndarray'>\n"
     ]
    }
   ],
   "source": [
    "ECGcat = df['ECGcat'].to_numpy()\n",
    "print(type(ECGcat))"
   ]
  },
  {
   "cell_type": "code",
   "execution_count": 8,
   "metadata": {},
   "outputs": [
    {
     "name": "stdout",
     "output_type": "stream",
     "text": [
      "(27245,)\n",
      "['NORM' 'NORM' 'NORM' 'NORM' 'NORM']\n"
     ]
    }
   ],
   "source": [
    "print(ECGcat.shape)\n",
    "print(ECGcat[0:5])"
   ]
  },
  {
   "cell_type": "code",
   "execution_count": 9,
   "metadata": {},
   "outputs": [],
   "source": [
    "summary = (\n",
    "    df.groupby(['ID0', 'ECGcat'])\n",
    "    .size()\n",
    "    .reset_index(name='count')\n",
    ")"
   ]
  },
  {
   "cell_type": "code",
   "execution_count": 10,
   "metadata": {},
   "outputs": [],
   "source": [
    "pivot = summary.pivot(index='ID0', columns='ECGcat', values='count').fillna(0)"
   ]
  },
  {
   "cell_type": "code",
   "execution_count": 11,
   "metadata": {},
   "outputs": [],
   "source": [
    "from skmultilearn.model_selection import iterative_train_test_split\n",
    "import numpy as np\n",
    "\n",
    "X = np.array(pivot.index).reshape(-1, 1)  \n",
    "y = pivot.values  "
   ]
  },
  {
   "cell_type": "code",
   "execution_count": 12,
   "metadata": {},
   "outputs": [],
   "source": [
    "# First split: train (60%) vs temp (40%)\n",
    "X_train, y_train, X_temp, y_temp = iterative_train_test_split(X, y, test_size=0.4)\n",
    "\n",
    "# Second split: val (20%) vs test (20%) from temp\n",
    "X_val, y_val, X_test, y_test = iterative_train_test_split(X_temp, y_temp, test_size=0.5)"
   ]
  },
  {
   "cell_type": "code",
   "execution_count": 13,
   "metadata": {},
   "outputs": [],
   "source": [
    "train_patients = X_train.flatten()\n",
    "val_patients = X_val.flatten()\n",
    "test_patients = X_test.flatten()"
   ]
  },
  {
   "cell_type": "code",
   "execution_count": 14,
   "metadata": {},
   "outputs": [],
   "source": [
    "df_train_index = df[df['ID0'].isin(train_patients)][\"index\"].tolist()\n",
    "df_val_index = df[df['ID0'].isin(val_patients)][\"index\"].tolist()\n",
    "df_test_index = df[df['ID0'].isin(test_patients)][\"index\"].tolist()"
   ]
  },
  {
   "cell_type": "code",
   "execution_count": 132,
   "metadata": {},
   "outputs": [
    {
     "name": "stdout",
     "output_type": "stream",
     "text": [
      "3707    3707\n",
      "3708    3708\n",
      "3709    3709\n",
      "3710    3710\n",
      "3711    3711\n",
      "Name: index, dtype: int64\n"
     ]
    }
   ],
   "source": [
    "print(df_train_index.head())"
   ]
  },
  {
   "cell_type": "code",
   "execution_count": 15,
   "metadata": {},
   "outputs": [],
   "source": [
    "PPG_ECG = mat_data['S']\n",
    "labels = mat_data['labels']\n",
    "PPG = PPG_ECG[:, :, 0]\n",
    "ECG = PPG_ECG[:, :, 1]\n",
    "PPG = np.transpose(PPG)\n",
    "ECG = np.transpose(ECG)\n",
    "\n",
    "PPG = np.expand_dims(PPG, axis=1)\n",
    "PPG = np.expand_dims(PPG, axis=1)"
   ]
  },
  {
   "cell_type": "code",
   "execution_count": 16,
   "metadata": {},
   "outputs": [],
   "source": [
    "x_train = PPG[df_train_index]\n",
    "x_val = PPG[df_val_index]\n",
    "x_test = PPG[df_test_index]"
   ]
  },
  {
   "cell_type": "code",
   "execution_count": 17,
   "metadata": {},
   "outputs": [],
   "source": [
    "y_train = df[df['ID0'].isin(train_patients)][\"ECGcat\"]\n",
    "y_val = df[df['ID0'].isin(val_patients)][\"ECGcat\"]\n",
    "y_test = df[df['ID0'].isin(test_patients)][\"ECGcat\"]"
   ]
  },
  {
   "cell_type": "code",
   "execution_count": 25,
   "metadata": {},
   "outputs": [],
   "source": [
    "from sklearn.preprocessing import LabelEncoder\n",
    "encoder = LabelEncoder()\n",
    "ECGcat = ECGcat\n",
    "ECGcat = encoder.fit_transform(ECGcat) "
   ]
  },
  {
   "cell_type": "code",
   "execution_count": 28,
   "metadata": {},
   "outputs": [
    {
     "name": "stdout",
     "output_type": "stream",
     "text": [
      "<class 'numpy.ndarray'>\n",
      "(27245,)\n",
      "[1 1 1 1 0 1 1 0 1]\n"
     ]
    }
   ],
   "source": [
    "print(type(ECGcat))\n",
    "print(ECGcat.shape)\n",
    "print(ECGcat[1:10])"
   ]
  },
  {
   "cell_type": "code",
   "execution_count": 158,
   "metadata": {},
   "outputs": [
    {
     "name": "stdout",
     "output_type": "stream",
     "text": [
      "(14469, 1, 1, 1920)\n",
      "(5974, 1, 1, 1920)\n",
      "(6802, 1, 1, 1920)\n",
      "(14469,)\n",
      "(5974,)\n",
      "(6802,)\n"
     ]
    }
   ],
   "source": [
    "print(x_train.shape)\n",
    "print(x_val.shape)\n",
    "print(x_test.shape)\n",
    "print(y_train.shape)\n",
    "print(y_val.shape)\n",
    "print(y_test.shape)"
   ]
  },
  {
   "cell_type": "code",
   "execution_count": 141,
   "metadata": {},
   "outputs": [
    {
     "name": "stdout",
     "output_type": "stream",
     "text": [
      "[[array(['SPO2'], dtype='<U4') array(['II'], dtype='<U2')]]\n",
      "(27245, 1920)\n",
      "(27245, 1920)\n",
      "(1920, 27245, 2)\n"
     ]
    }
   ],
   "source": [
    "print(labels)\n",
    "print(PPG.shape)\n",
    "print(ECG.shape)\n",
    "print(PPG_ECG.shape)"
   ]
  },
  {
   "cell_type": "code",
   "execution_count": null,
   "metadata": {},
   "outputs": [
    {
     "data": {
      "image/png": "[encoded data removed]",
      "text/plain": [
       "<Figure size 640x480 with 1 Axes>"
      ]
     },
     "metadata": {},
     "output_type": "display_data"
    }
   ],
   "source": [
    "# import matplotlib.pyplot as plt\n",
    "# plt.plot(ECG[21])\n",
    "# plt.title(\"Plot of 1920-point Array\")\n",
    "# plt.xlabel(\"Index\")\n",
    "# plt.ylabel(\"Value\")\n",
    "# plt.grid(True)\n",
    "# plt.show()"
   ]
  },
  {
   "cell_type": "code",
   "execution_count": 88,
   "metadata": {},
   "outputs": [],
   "source": [
    "rr = mat_data['spikes_all']\n",
    "rr = rr[0].tolist()  # list of array with shape (1,8)"
   ]
  },
  {
   "cell_type": "code",
   "execution_count": 89,
   "metadata": {},
   "outputs": [],
   "source": [
    "def calculate_sdsd(rr_intervals):\n",
    "    \"\"\"Calculate SDSD from RR intervals.\"\"\"\n",
    "    rr_diff = np.diff(rr_intervals)  # Compute successive differences\n",
    "    sdsd = np.std(rr_diff, ddof=1)  # Standard deviation (unbiased)\n",
    "    return sdsd"
   ]
  },
  {
   "cell_type": "code",
   "execution_count": 90,
   "metadata": {},
   "outputs": [],
   "source": [
    "sdsd_all = [] \n",
    "for i in rr:\n",
    "    sdsd = calculate_sdsd(i)\n",
    "    sdsd_all.append(sdsd.item())\n",
    "\n",
    "ECG_labels = [1 if i>100 else 0 for i in sdsd_all]\n",
    "ECG_labels = np.array(ECG_labels)\n",
    "# ECG_labels_onehot = np.eye(2)[ECG_labels]\n",
    "ECG_labels_onehot = ECG_labels"
   ]
  },
  {
   "cell_type": "code",
   "execution_count": 91,
   "metadata": {},
   "outputs": [
    {
     "name": "stdout",
     "output_type": "stream",
     "text": [
      "(27245,)\n",
      "[0 0 0 0 0 1 0 0 1 0]\n"
     ]
    }
   ],
   "source": [
    "print(ECG_labels_onehot.shape)\n",
    "print(ECG_labels_onehot[:10])"
   ]
  },
  {
   "cell_type": "code",
   "execution_count": 92,
   "metadata": {},
   "outputs": [
    {
     "name": "stdout",
     "output_type": "stream",
     "text": [
      "[0 1]\n"
     ]
    }
   ],
   "source": [
    "ectopics = np.array([0, 1])\n",
    "print(ectopics)"
   ]
  },
  {
   "cell_type": "code",
   "execution_count": 93,
   "metadata": {},
   "outputs": [
    {
     "name": "stdout",
     "output_type": "stream",
     "text": [
      "27245\n",
      "27245\n",
      "(27245,)\n",
      "<class 'numpy.int64'>\n",
      "[14464 12781]\n"
     ]
    }
   ],
   "source": [
    "print(len(sdsd_all))\n",
    "print(len(ECG_labels_onehot))\n",
    "print(ECG_labels_onehot.shape)\n",
    "print(type(ECG_labels_onehot[0]))\n",
    "print(sum([i == ectopics for i in ECG_labels_onehot]))"
   ]
  },
  {
   "cell_type": "code",
   "execution_count": 94,
   "metadata": {},
   "outputs": [],
   "source": [
    "from sklearn.model_selection import train_test_split"
   ]
  },
  {
   "cell_type": "code",
   "execution_count": 95,
   "metadata": {},
   "outputs": [
    {
     "name": "stdout",
     "output_type": "stream",
     "text": [
      "(27245, 1920)\n"
     ]
    }
   ],
   "source": [
    "print(PPG.shape)\n",
    "PPG = np.expand_dims(PPG, axis=1)\n",
    "PPG = np.expand_dims(PPG, axis=1)"
   ]
  },
  {
   "cell_type": "markdown",
   "metadata": {},
   "source": []
  },
  {
   "cell_type": "code",
   "execution_count": 96,
   "metadata": {},
   "outputs": [],
   "source": [
    "x_train, x_rest, y_train, y_rest = train_test_split(PPG, ECG_labels_onehot, test_size=0.4, random_state=16, shuffle=True)"
   ]
  },
  {
   "cell_type": "code",
   "execution_count": 97,
   "metadata": {},
   "outputs": [],
   "source": [
    "x_val, x_test, y_val, y_test = train_test_split(x_rest, y_rest, test_size=0.5, random_state=16, shuffle=True)"
   ]
  },
  {
   "cell_type": "code",
   "execution_count": 98,
   "metadata": {},
   "outputs": [
    {
     "name": "stdout",
     "output_type": "stream",
     "text": [
      "(16347, 1, 1, 1920)\n",
      "(16347,)\n",
      "(5449, 1, 1, 1920)\n",
      "(5449,)\n",
      "(5449, 1, 1, 1920)\n",
      "(5449,)\n"
     ]
    }
   ],
   "source": [
    "print(x_train.shape)\n",
    "print(y_train.shape)\n",
    "print(x_val.shape)\n",
    "print(y_val.shape)\n",
    "print(x_test.shape)\n",
    "print(y_test.shape)"
   ]
  },
  {
   "cell_type": "code",
   "execution_count": 99,
   "metadata": {},
   "outputs": [
    {
     "name": "stdout",
     "output_type": "stream",
     "text": [
      "16347\n"
     ]
    }
   ],
   "source": [
    "print(len(x_train))"
   ]
  },
  {
   "cell_type": "code",
   "execution_count": 100,
   "metadata": {},
   "outputs": [],
   "source": [
    "with open('./PPG_data/splitted_data/x_train.npy', 'wb') as f:\n",
    "    np.save(f, x_train)\n",
    "with open('./PPG_data/splitted_data/y_train.npy', 'wb') as f:\n",
    "    np.save(f, y_train)\n",
    "with open('./PPG_data/splitted_data/x_val.npy', 'wb') as f:\n",
    "    np.save(f, x_val)\n",
    "with open('./PPG_data/splitted_data/y_val.npy', 'wb') as f:\n",
    "    np.save(f, y_val)\n",
    "with open('./PPG_data/splitted_data/x_test.npy', 'wb') as f:\n",
    "    np.save(f, x_test)\n",
    "with open('./PPG_data/splitted_data/y_test.npy', 'wb') as f:\n",
    "    np.save(f, y_test)"
   ]
  }
 ],
 "metadata": {
  "kernelspec": {
   "display_name": "PPG",
   "language": "python",
   "name": "python3"
  },
  "language_info": {
   "codemirror_mode": {
    "name": "ipython",
    "version": 3
   },
   "file_extension": ".py",
   "mimetype": "text/x-python",
   "name": "python",
   "nbconvert_exporter": "python",
   "pygments_lexer": "ipython3",
   "version": "3.10.16"
  }
 },
 "nbformat": 4,
 "nbformat_minor": 2
}
