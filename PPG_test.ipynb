{
 "cells": [
  {
   "cell_type": "code",
   "execution_count": 86,
   "metadata": {},
   "outputs": [
    {
     "name": "stdout",
     "output_type": "stream",
     "text": [
      "dict_keys(['__header__', '__version__', '__globals__', 'S', 'None', 'fs', 'labels', 'spikes_all', '__function_workspace__'])\n"
     ]
    }
   ],
   "source": [
    "import scipy.io\n",
    "import numpy as np\n",
    "\n",
    "# Load .mat file\n",
    "file_path = \"./PPG_data/Compiled/PPGECG_all.mat\"\n",
    "mat_data = scipy.io.loadmat(file_path)\n",
    "\n",
    "# Check keys in the .mat file\n",
    "print(mat_data.keys())\n"
   ]
  },
  {
   "cell_type": "code",
   "execution_count": 87,
   "metadata": {},
   "outputs": [],
   "source": [
    "PPG_ECG = mat_data['S']\n",
    "labels = mat_data['labels']\n",
    "PPG = PPG_ECG[:, :, 0]\n",
    "ECG = PPG_ECG[:, :, 1]\n",
    "PPG = np.transpose(PPG)\n",
    "ECG = np.transpose(ECG)"
   ]
  },
  {
   "cell_type": "code",
   "execution_count": 88,
   "metadata": {},
   "outputs": [],
   "source": [
    "rr = mat_data['spikes_all']\n",
    "rr = rr[0].tolist()  # list of array with shape (1,8)"
   ]
  },
  {
   "cell_type": "code",
   "execution_count": 89,
   "metadata": {},
   "outputs": [],
   "source": [
    "def calculate_sdsd(rr_intervals):\n",
    "    \"\"\"Calculate SDSD from RR intervals.\"\"\"\n",
    "    rr_diff = np.diff(rr_intervals)  # Compute successive differences\n",
    "    sdsd = np.std(rr_diff, ddof=1)  # Standard deviation (unbiased)\n",
    "    return sdsd"
   ]
  },
  {
   "cell_type": "code",
   "execution_count": 90,
   "metadata": {},
   "outputs": [],
   "source": [
    "sdsd_all = [] \n",
    "for i in rr:\n",
    "    sdsd = calculate_sdsd(i)\n",
    "    sdsd_all.append(sdsd.item())\n",
    "\n",
    "ECG_labels = [1 if i>100 else 0 for i in sdsd_all]\n",
    "ECG_labels = np.array(ECG_labels)\n",
    "# ECG_labels_onehot = np.eye(2)[ECG_labels]\n",
    "ECG_labels_onehot = ECG_labels"
   ]
  },
  {
   "cell_type": "code",
   "execution_count": 91,
   "metadata": {},
   "outputs": [
    {
     "name": "stdout",
     "output_type": "stream",
     "text": [
      "(27245,)\n",
      "[0 0 0 0 0 1 0 0 1 0]\n"
     ]
    }
   ],
   "source": [
    "print(ECG_labels_onehot.shape)\n",
    "print(ECG_labels_onehot[:10])"
   ]
  },
  {
   "cell_type": "code",
   "execution_count": 92,
   "metadata": {},
   "outputs": [
    {
     "name": "stdout",
     "output_type": "stream",
     "text": [
      "[0 1]\n"
     ]
    }
   ],
   "source": [
    "ectopics = np.array([0, 1])\n",
    "print(ectopics)"
   ]
  },
  {
   "cell_type": "code",
   "execution_count": 93,
   "metadata": {},
   "outputs": [
    {
     "name": "stdout",
     "output_type": "stream",
     "text": [
      "27245\n",
      "27245\n",
      "(27245,)\n",
      "<class 'numpy.int64'>\n",
      "[14464 12781]\n"
     ]
    }
   ],
   "source": [
    "print(len(sdsd_all))\n",
    "print(len(ECG_labels_onehot))\n",
    "print(ECG_labels_onehot.shape)\n",
    "print(type(ECG_labels_onehot[0]))\n",
    "print(sum([i == ectopics for i in ECG_labels_onehot]))"
   ]
  },
  {
   "cell_type": "code",
   "execution_count": 94,
   "metadata": {},
   "outputs": [],
   "source": [
    "from sklearn.model_selection import train_test_split"
   ]
  },
  {
   "cell_type": "code",
   "execution_count": 95,
   "metadata": {},
   "outputs": [
    {
     "name": "stdout",
     "output_type": "stream",
     "text": [
      "(27245, 1920)\n"
     ]
    }
   ],
   "source": [
    "print(PPG.shape)\n",
    "PPG = np.expand_dims(PPG, axis=1)\n",
    "PPG = np.expand_dims(PPG, axis=1)"
   ]
  },
  {
   "cell_type": "markdown",
   "metadata": {},
   "source": []
  },
  {
   "cell_type": "code",
   "execution_count": 96,
   "metadata": {},
   "outputs": [],
   "source": [
    "x_train, x_rest, y_train, y_rest = train_test_split(PPG, ECG_labels_onehot, test_size=0.4, random_state=16, shuffle=True)"
   ]
  },
  {
   "cell_type": "code",
   "execution_count": 97,
   "metadata": {},
   "outputs": [],
   "source": [
    "x_val, x_test, y_val, y_test = train_test_split(x_rest, y_rest, test_size=0.5, random_state=16, shuffle=True)"
   ]
  },
  {
   "cell_type": "code",
   "execution_count": 98,
   "metadata": {},
   "outputs": [
    {
     "name": "stdout",
     "output_type": "stream",
     "text": [
      "(16347, 1, 1, 1920)\n",
      "(16347,)\n",
      "(5449, 1, 1, 1920)\n",
      "(5449,)\n",
      "(5449, 1, 1, 1920)\n",
      "(5449,)\n"
     ]
    }
   ],
   "source": [
    "print(x_train.shape)\n",
    "print(y_train.shape)\n",
    "print(x_val.shape)\n",
    "print(y_val.shape)\n",
    "print(x_test.shape)\n",
    "print(y_test.shape)"
   ]
  },
  {
   "cell_type": "code",
   "execution_count": 99,
   "metadata": {},
   "outputs": [
    {
     "name": "stdout",
     "output_type": "stream",
     "text": [
      "16347\n"
     ]
    }
   ],
   "source": [
    "print(len(x_train))"
   ]
  },
  {
   "cell_type": "code",
   "execution_count": 100,
   "metadata": {},
   "outputs": [],
   "source": [
    "with open('./PPG_data/splitted_data/x_train.npy', 'wb') as f:\n",
    "    np.save(f, x_train)\n",
    "with open('./PPG_data/splitted_data/y_train.npy', 'wb') as f:\n",
    "    np.save(f, y_train)\n",
    "with open('./PPG_data/splitted_data/x_val.npy', 'wb') as f:\n",
    "    np.save(f, x_val)\n",
    "with open('./PPG_data/splitted_data/y_val.npy', 'wb') as f:\n",
    "    np.save(f, y_val)\n",
    "with open('./PPG_data/splitted_data/x_test.npy', 'wb') as f:\n",
    "    np.save(f, x_test)\n",
    "with open('./PPG_data/splitted_data/y_test.npy', 'wb') as f:\n",
    "    np.save(f, y_test)"
   ]
  }
 ],
 "metadata": {
  "kernelspec": {
   "display_name": "PPG",
   "language": "python",
   "name": "python3"
  },
  "language_info": {
   "codemirror_mode": {
    "name": "ipython",
    "version": 3
   },
   "file_extension": ".py",
   "mimetype": "text/x-python",
   "name": "python",
   "nbconvert_exporter": "python",
   "pygments_lexer": "ipython3",
   "version": "3.10.16"
  }
 },
 "nbformat": 4,
 "nbformat_minor": 2
}
